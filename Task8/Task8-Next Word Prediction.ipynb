{
 "cells": [
  {
   "cell_type": "markdown",
   "id": "2353c17f",
   "metadata": {},
   "source": [
    "#### LetsGrowMore(LGMVIP)- \"DATA SCIENCE INTERN \"\n",
    "\n",
    "#### LGMVIP April-23\n",
    "\n",
    "#### AUTHOR - SHWETA KULKARNI\n",
    "\n",
    "#### ADVANCED LEVEL TASK\n"
   ]
  },
  {
   "cell_type": "markdown",
   "id": "37bcf3a4",
   "metadata": {},
   "source": [
    "#### TASK 8 : Next Word Prediction"
   ]
  },
  {
   "cell_type": "code",
   "execution_count": 1,
   "id": "2ae321b4",
   "metadata": {},
   "outputs": [],
   "source": [
    "import numpy as np\n",
    "from nltk.tokenize import RegexpTokenizer \n",
    "from keras.models import Sequential,load_model\n",
    "from keras.layers import LSTM \n",
    "from keras.layers import Dense ,Activation\n",
    "from tensorflow.keras.optimizers import RMSprop \n",
    "import matplotlib.pyplot as plt \n",
    "import pickle \n",
    "import heapq"
   ]
  },
  {
   "cell_type": "code",
   "execution_count": 2,
   "id": "41cb1ecb",
   "metadata": {},
   "outputs": [
    {
     "name": "stdout",
     "output_type": "stream",
     "text": [
      "corpus length : 581888\n"
     ]
    }
   ],
   "source": [
    "text=open(r'1661-0.txt','r',encoding='utf-8').read().lower()\n",
    "print(\"corpus length :\",len(text))"
   ]
  },
  {
   "cell_type": "code",
   "execution_count": 3,
   "id": "7d869b02",
   "metadata": {},
   "outputs": [],
   "source": [
    "tokenizer=RegexpTokenizer(r'\\w+')\n",
    "words=tokenizer.tokenize(text)"
   ]
  },
  {
   "cell_type": "code",
   "execution_count": 4,
   "id": "7359e465",
   "metadata": {},
   "outputs": [],
   "source": [
    "unique_words=np.unique(words)\n",
    "unique_words_index=dict((c,i) for i,c in enumerate(unique_words))"
   ]
  },
  {
   "cell_type": "code",
   "execution_count": 5,
   "id": "c1474308",
   "metadata": {},
   "outputs": [
    {
     "name": "stdout",
     "output_type": "stream",
     "text": [
      "['project', 'gutenberg', 's', 'the', 'adventures']\n",
      "of\n"
     ]
    }
   ],
   "source": [
    "WORD_LENGTH=5\n",
    "prev_words=[]\n",
    "next_words=[]\n",
    "for i in range(len(words)-WORD_LENGTH):\n",
    "    prev_words.append(words[i:i+WORD_LENGTH])\n",
    "    next_words.append(words[i+WORD_LENGTH])\n",
    "print(prev_words[0])\n",
    "print(next_words[0])"
   ]
  },
  {
   "cell_type": "code",
   "execution_count": 6,
   "id": "41b04cf9",
   "metadata": {},
   "outputs": [],
   "source": [
    "X=np.zeros((len(prev_words),WORD_LENGTH,len(unique_words)),dtype=bool)\n",
    "Y=np.zeros((len(next_words),len(unique_words)),dtype=bool)\n",
    "for i,each_words in enumerate(prev_words):\n",
    "    for j,each_words in enumerate(each_words):\n",
    "        X[i,j,unique_words_index[each_words]]=1\n",
    "        Y[i,unique_words_index[next_words[i]]]=1"
   ]
  },
  {
   "cell_type": "code",
   "execution_count": 7,
   "id": "5686762c",
   "metadata": {},
   "outputs": [
    {
     "name": "stdout",
     "output_type": "stream",
     "text": [
      "[False False False ... False False False]\n"
     ]
    }
   ],
   "source": [
    "print((X[0][0]))"
   ]
  },
  {
   "cell_type": "code",
   "execution_count": 8,
   "id": "1a9beea6",
   "metadata": {},
   "outputs": [],
   "source": [
    "model=Sequential()\n",
    "model.add(LSTM(128,input_shape=(WORD_LENGTH,len(unique_words))))\n",
    "model.add(Dense(len(unique_words)))\n",
    "model.add(Activation('softmax'))"
   ]
  },
  {
   "cell_type": "code",
   "execution_count": 9,
   "id": "b09c4cec",
   "metadata": {},
   "outputs": [
    {
     "name": "stderr",
     "output_type": "stream",
     "text": [
      "WARNING:absl:`lr` is deprecated in Keras optimizer, please use `learning_rate` or use the legacy optimizer, e.g.,tf.keras.optimizers.legacy.RMSprop.\n"
     ]
    },
    {
     "name": "stdout",
     "output_type": "stream",
     "text": [
      "Epoch 1/2\n",
      "811/811 [==============================] - 435s 533ms/step - loss: 6.7019 - accuracy: 0.0529 - val_loss: 7.2483 - val_accuracy: 0.0538\n",
      "Epoch 2/2\n",
      "811/811 [==============================] - 427s 527ms/step - loss: 6.4834 - accuracy: 0.0531 - val_loss: 7.2656 - val_accuracy: 0.0538\n"
     ]
    }
   ],
   "source": [
    "optimizer=RMSprop(lr=0.01)\n",
    "model.compile(loss='categorical_crossentropy',optimizer=optimizer,metrics=[\"accuracy\"])\n",
    "history=model.fit(X,Y,validation_split=0.05,batch_size=128,epochs=2,shuffle=True).history"
   ]
  },
  {
   "cell_type": "code",
   "execution_count": 10,
   "id": "fa2da474",
   "metadata": {},
   "outputs": [],
   "source": [
    "model.save('keras_next_word_model.h5')\n",
    "pickle.dump(history,open('history.p','wb'))\n",
    "model=load_model('keras_next_word_model.h5')\n",
    "history=pickle.load(open('history.p','rb'))"
   ]
  },
  {
   "cell_type": "code",
   "execution_count": 11,
   "id": "a481288a",
   "metadata": {},
   "outputs": [
    {
     "name": "stdout",
     "output_type": "stream",
     "text": [
      "how\n"
     ]
    },
    {
     "data": {
      "text/plain": [
       "array([[[0., 0., 0., ..., 0., 0., 0.],\n",
       "        [0., 0., 0., ..., 0., 0., 0.],\n",
       "        [0., 0., 0., ..., 0., 0., 0.],\n",
       "        [0., 0., 0., ..., 0., 0., 0.],\n",
       "        [0., 0., 0., ..., 0., 0., 0.]]])"
      ]
     },
     "execution_count": 11,
     "metadata": {},
     "output_type": "execute_result"
    }
   ],
   "source": [
    "def prepare_input(text):\n",
    "    x=np.zeros((1,WORD_LENGTH,len(unique_words)))\n",
    "    for t, word in enumerate(text.split()):\n",
    "        print(word)\n",
    "        x[0,t,unique_words_index[word]]=1\n",
    "        return x\n",
    "prepare_input(\"How are you\".lower())"
   ]
  },
  {
   "cell_type": "code",
   "execution_count": 12,
   "id": "b4f9402a",
   "metadata": {},
   "outputs": [],
   "source": [
    "def sample(preds,top_n=3):\n",
    "    preds=np.asarray(preds).astype(\"float64\")\n",
    "    preds=np.log(preds)\n",
    "    exp_preds=np.exp(preds)\n",
    "    preds=exp_preds / np.sum(exp_preds)\n",
    "\n",
    "    return heapq.nlargest(top_n, range(len(preds)),preds.take)\n",
    "  "
   ]
  },
  {
   "cell_type": "code",
   "execution_count": 13,
   "id": "c011ef37",
   "metadata": {},
   "outputs": [],
   "source": [
    "def predict_completions(text,n=3):\n",
    "    if text==\"\":\n",
    "        return('0')\n",
    "    x=prepare_input(text)\n",
    "    preds=model.predict(X,verbose=0)[0]\n",
    "    next_indices=sample(preds,n)\n",
    "    return [unique_words[inx] for idx in next_indices]"
   ]
  },
  {
   "cell_type": "code",
   "execution_count": 18,
   "id": "8a4e95fc",
   "metadata": {},
   "outputs": [
    {
     "name": "stdout",
     "output_type": "stream",
     "text": [
      "correct sentence :  Do your work by your own instead of depending on someone \n",
      "Sequence :  do your work by your\n"
     ]
    }
   ],
   "source": [
    "q=\"Do your work by your own instead of depending on someone \"\n",
    "print(\"correct sentence : \",q)\n",
    "seq=\" \".join(tokenizer.tokenize(q.lower())[0:5])\n",
    "print(\"Sequence : \",seq)"
   ]
  },
  {
   "cell_type": "code",
   "execution_count": null,
   "id": "28767527",
   "metadata": {},
   "outputs": [],
   "source": []
  }
 ],
 "metadata": {
  "kernelspec": {
   "display_name": "Python 3 (ipykernel)",
   "language": "python",
   "name": "python3"
  },
  "language_info": {
   "codemirror_mode": {
    "name": "ipython",
    "version": 3
   },
   "file_extension": ".py",
   "mimetype": "text/x-python",
   "name": "python",
   "nbconvert_exporter": "python",
   "pygments_lexer": "ipython3",
   "version": "3.9.13"
  }
 },
 "nbformat": 4,
 "nbformat_minor": 5
}
